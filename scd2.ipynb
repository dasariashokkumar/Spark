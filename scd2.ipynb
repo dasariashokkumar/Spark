{
 "cells": [
  {
   "cell_type": "code",
   "execution_count": 35,
   "metadata": {},
   "outputs": [
    {
     "name": "stdout",
     "output_type": "stream",
     "text": [
      "+----------+--------+------------+----------+----------+\n",
      "|CustomerID|    Name|     Address| StartDate|   EndDate|\n",
      "+----------+--------+------------+----------+----------+\n",
      "|         1|John Doe|  123 Old St|2022-01-01|2025-02-11|\n",
      "|         2|Jane Doe| 456 New Ave|2022-01-01|2025-02-11|\n",
      "|         1|John Doe| 789 New St1|2025-02-11|9999-12-31|\n",
      "|         2|Jane Doe|456 New Ave1|2025-02-11|9999-12-31|\n",
      "+----------+--------+------------+----------+----------+\n",
      "\n"
     ]
    }
   ],
   "source": [
    "from pyspark.sql import SparkSession\n",
    "from pyspark.sql.functions import col, lit, current_date\n",
    "\n",
    "# Initialize Spark session\n",
    "spark = SparkSession.builder.appName(\"SCD2\").getOrCreate()\n",
    "\n",
    "# Sample data before change\n",
    "data_before = [(\"1\", \"John Doe\", \"123 Old St\", \"2022-01-01\", \"9999-12-31\"),\n",
    "               (\"2\", \"Jane Doe\", \"456 New Ave\", \"2022-01-01\", \"9999-12-31\")]\n",
    "\n",
    "columns = [\"CustomerID\", \"Name\", \"Address\", \"StartDate\", \"EndDate\"]\n",
    "\n",
    "df_before = spark.createDataFrame(data_before, columns).alias(\"before\")\n",
    "\n",
    "# Sample data after change (John Doe's address has changed)\n",
    "data_after = [(\"1\", \"John Doe\", \"789 New St1\"),\n",
    "              (\"2\", \"Jane Doe\", \"456 New Ave1\")]\n",
    "\n",
    "df_after = spark.createDataFrame(data_after, [\"CustomerID\", \"Name\", \"Address\"]).alias(\"after\")\n",
    "\n",
    "# Current date\n",
    "current_date_val = current_date()\n",
    "\n",
    "# Identify records that have changed\n",
    "changed_records = df_before.join(df_after, \"CustomerID\") \\\n",
    "    .filter(col(\"before.Address\") != col(\"after.Address\"))\n",
    "\n",
    "# Mark old records as inactive by setting the end date to the current date\n",
    "updated_inactive_records = changed_records \\\n",
    "    .withColumn(\"EndDate\", lit(current_date_val)) \\\n",
    "    .select(col(\"before.CustomerID\"), col(\"before.Name\"), col(\"before.Address\"), col(\"before.StartDate\"), lit(current_date_val).alias(\"EndDate\"))\n",
    "\n",
    "# Create new active records with the updated address and the start date as the current date\n",
    "new_active_records = changed_records \\\n",
    "    .select(col(\"after.CustomerID\"), col(\"after.Name\"), col(\"after.Address\")) \\\n",
    "    .withColumn(\"StartDate\", lit(current_date_val)) \\\n",
    "    .withColumn(\"EndDate\", lit(\"9999-12-31\"))\n",
    "\n",
    "# Combine unchanged records with updated records\n",
    "df_unchanged = df_before.join(changed_records, \"CustomerID\", \"left_anti\")\n",
    "df_scd2 = df_unchanged.union(updated_inactive_records).union(new_active_records)\n",
    "\n",
    "# Display the final SCD2 table\n",
    "df_scd2.show()\n"
   ]
  }
 ],
 "metadata": {
  "kernelspec": {
   "display_name": "Python 3",
   "language": "python",
   "name": "python3"
  },
  "language_info": {
   "codemirror_mode": {
    "name": "ipython",
    "version": 3
   },
   "file_extension": ".py",
   "mimetype": "text/x-python",
   "name": "python",
   "nbconvert_exporter": "python",
   "pygments_lexer": "ipython3",
   "version": "3.13.2"
  }
 },
 "nbformat": 4,
 "nbformat_minor": 2
}
