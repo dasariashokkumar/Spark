{
 "cells": [
  {
   "cell_type": "code",
   "execution_count": 11,
   "metadata": {},
   "outputs": [],
   "source": [
    "from pyspark.sql import SparkSession\n",
    "\n",
    "spark = SparkSession.builder.appName(\"WordCount\").getOrCreate()\n"
   ]
  },
  {
   "cell_type": "code",
   "execution_count": 12,
   "metadata": {},
   "outputs": [],
   "source": [
    "text_file = spark.read.text(\"textfile.txt\")\n"
   ]
  },
  {
   "cell_type": "code",
   "execution_count": 13,
   "metadata": {},
   "outputs": [
    {
     "name": "stdout",
     "output_type": "stream",
     "text": [
      "+-------+-----+\n",
      "|   word|count|\n",
      "+-------+-----+\n",
      "|  kavya|    2|\n",
      "| rohith|    1|\n",
      "|  kumar|    1|\n",
      "| dasari|    3|\n",
      "| jyothi|    1|\n",
      "|   love|    1|\n",
      "|   hard|    2|\n",
      "|      i|    1|\n",
      "|  ashok|    1|\n",
      "|working|    2|\n",
      "|       |   20|\n",
      "|     am|    1|\n",
      "|    anu|    1|\n",
      "+-------+-----+\n",
      "\n"
     ]
    }
   ],
   "source": [
    "from pyspark.sql.functions import explode, split\n",
    "\n",
    "# Split lines into words and explode them into rows\n",
    "words = text_file.select(explode(split(text_file.value, \" \")).alias(\"word\"))\n",
    "\n",
    "# Group by word and count occurrences\n",
    "word_counts = words.groupBy(\"word\").count()\n",
    "\n",
    "# Show the results\n",
    "word_counts.show()\n"
   ]
  },
  {
   "cell_type": "code",
   "execution_count": 26,
   "metadata": {},
   "outputs": [
    {
     "name": "stdout",
     "output_type": "stream",
     "text": [
      "ashok: 1\n",
      ": 20\n",
      "dasari: 3\n",
      "rohith: 1\n",
      "working: 2\n",
      "love: 1\n",
      "kumar: 1\n",
      "kavya: 2\n",
      "anu: 1\n",
      "jyothi: 1\n",
      "i: 1\n",
      "am: 1\n",
      "hard: 2\n"
     ]
    }
   ],
   "source": [
    "from pyspark import SparkContext\n",
    "\n",
    "sc = SparkContext.getOrCreate()# Read the input file\n",
    "text_file = sc.textFile(\"textfile.txt\")\n",
    "\n",
    "# Split lines into words and count occurrences\n",
    "word_counts = text_file.flatMap(lambda line: line.split(\" \")) \\\n",
    "                       .map(lambda word: (word, 1)) \\\n",
    "                       .reduceByKey(lambda a, b: a + b)\n",
    "\n",
    "# Collect the results and display\n",
    "for word, count in word_counts.collect():\n",
    "    print(f\"{word}: {count}\")\n",
    "\n",
    "\n",
    "\n",
    "\n"
   ]
  },
  {
   "cell_type": "code",
   "execution_count": null,
   "metadata": {},
   "outputs": [],
   "source": []
  }
 ],
 "metadata": {
  "kernelspec": {
   "display_name": "Python 3",
   "language": "python",
   "name": "python3"
  },
  "language_info": {
   "codemirror_mode": {
    "name": "ipython",
    "version": 3
   },
   "file_extension": ".py",
   "mimetype": "text/x-python",
   "name": "python",
   "nbconvert_exporter": "python",
   "pygments_lexer": "ipython3",
   "version": "3.13.2"
  }
 },
 "nbformat": 4,
 "nbformat_minor": 2
}
