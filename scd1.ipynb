{
 "cells": [
  {
   "cell_type": "code",
   "execution_count": 33,
   "metadata": {},
   "outputs": [],
   "source": [
    "from pyspark.sql import SparkSession\n",
    "from pyspark.sql.functions import col\n",
    "\n",
    "spark = SparkSession.builder.appName(\"SCD1\").getOrCreate()\n"
   ]
  },
  {
   "cell_type": "code",
   "execution_count": 34,
   "metadata": {},
   "outputs": [],
   "source": [
    "data_before = [(\"1\", \"John Doe\", \"123 Old St\"),\n",
    "               (\"2\", \"Jane Doe\", \"456 New Ave\")]\n",
    "\n",
    "columns = [\"CustomerID\", \"Name\", \"Address\"]\n",
    "\n",
    "df_before = spark.createDataFrame(data_before, columns).alias(\"before\")\n"
   ]
  },
  {
   "cell_type": "code",
   "execution_count": 35,
   "metadata": {},
   "outputs": [],
   "source": [
    "data_after = [(\"1\", \"John Doe1\", \"789 New St1\"),\n",
    "              (\"3\", \"Jane Doe2\", \"457 New Ave2\")]\n",
    "\n",
    "df_after = spark.createDataFrame(data_after, columns).alias(\"after\")\n"
   ]
  },
  {
   "cell_type": "code",
   "execution_count": 36,
   "metadata": {},
   "outputs": [
    {
     "name": "stdout",
     "output_type": "stream",
     "text": [
      "Data Before:\n",
      "+----------+--------+-----------+\n",
      "|CustomerID|    Name|    Address|\n",
      "+----------+--------+-----------+\n",
      "|         1|John Doe| 123 Old St|\n",
      "|         2|Jane Doe|456 New Ave|\n",
      "+----------+--------+-----------+\n",
      "\n",
      "Data After:\n",
      "+----------+---------+------------+\n",
      "|CustomerID|     Name|     Address|\n",
      "+----------+---------+------------+\n",
      "|         1|John Doe1| 789 New St1|\n",
      "|         3|Jane Doe2|457 New Ave2|\n",
      "+----------+---------+------------+\n",
      "\n"
     ]
    }
   ],
   "source": [
    "print(\"Data Before:\")\n",
    "df_before.show()\n",
    "\n",
    "print(\"Data After:\")\n",
    "df_after.show()\n"
   ]
  },
  {
   "cell_type": "code",
   "execution_count": 37,
   "metadata": {},
   "outputs": [
    {
     "name": "stdout",
     "output_type": "stream",
     "text": [
      "+----------+---------+------------+\n",
      "|CustomerID|     Name|     Address|\n",
      "+----------+---------+------------+\n",
      "|         1|John Doe1| 789 New St1|\n",
      "|         3|Jane Doe2|457 New Ave2|\n",
      "+----------+---------+------------+\n",
      "\n"
     ]
    }
   ],
   "source": [
    "df_scd1 = df_before.join(df_after, \"CustomerID\", \"right\") \\\n",
    "    .select(col(\"after.CustomerID\").alias(\"CustomerID\"), \n",
    "            col(\"after.Name\").alias(\"Name\"), \n",
    "            col(\"after.Address\").alias(\"Address\"))\n",
    "\n",
    "df_scd1.show()\n"
   ]
  }
 ],
 "metadata": {
  "kernelspec": {
   "display_name": "Python 3",
   "language": "python",
   "name": "python3"
  },
  "language_info": {
   "codemirror_mode": {
    "name": "ipython",
    "version": 3
   },
   "file_extension": ".py",
   "mimetype": "text/x-python",
   "name": "python",
   "nbconvert_exporter": "python",
   "pygments_lexer": "ipython3",
   "version": "3.13.2"
  }
 },
 "nbformat": 4,
 "nbformat_minor": 2
}
